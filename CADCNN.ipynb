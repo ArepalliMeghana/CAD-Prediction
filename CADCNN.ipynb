{
  "nbformat": 4,
  "nbformat_minor": 0,
  "metadata": {
    "colab": {
      "provenance": []
    },
    "kernelspec": {
      "name": "python3",
      "display_name": "Python 3"
    },
    "language_info": {
      "name": "python"
    }
  },
  "cells": [
    {
      "cell_type": "code",
      "execution_count": null,
      "metadata": {
        "id": "AJegctqO_whZ"
      },
      "outputs": [],
      "source": [
        "import pydicom\n",
        "import numpy as np\n",
        "\n",
        "def load_dicom_hu(dicom_path):\n",
        "    \"\"\"Convert DICOM to Hounsfield Units\"\"\"\n",
        "    dicom = pydicom.dcmread(dicom_path)\n",
        "    hu = dicom.pixel_array * dicom.RescaleSlope + dicom.RescaleIntercept\n",
        "    return hu, dicom\n",
        "\n",
        "def create_mip(hu_volume, slab_thickness=3):\n",
        "    \"\"\"Maximum Intensity Projection for non-gated CTs\"\"\"\n",
        "    return np.max(hu_volume[i:i+slab_thickness] for i in range(len(hu_volume)-slab_thickness))"
      ]
    },
    {
      "cell_type": "code",
      "source": [
        "import torch\n",
        "from monai.networks.nets import UNet\n",
        "\n",
        "def train_unet(ct_volumes, masks):\n",
        "    \"\"\"Train cardiac segmentation model\"\"\"\n",
        "    model = UNet(\n",
        "        spatial_dims=3,\n",
        "        in_channels=1,\n",
        "        out_channels=4,  # Background + 3 arteries\n",
        "        channels=(16, 32, 64),\n",
        "        strides=(2, 2)\n",
        "    )\n",
        "    optimizer = torch.optim.Adam(model.parameters())\n",
        "    loss_fn = torch.nn.CrossEntropyLoss()\n",
        "\n",
        "    for epoch in range(100):\n",
        "        outputs = model(ct_volumes)\n",
        "        loss = loss_fn(outputs, masks)\n",
        "        optimizer.zero_grad()\n",
        "        loss.backward()\n",
        "        optimizer.step()\n",
        "    return model\n",
        "\n",
        "def extract_roi(hu_volume, model):\n",
        "    \"\"\"Predict cardiac ROI using trained U-Net\"\"\"\n",
        "    with torch.no_grad():\n",
        "        logits = model(torch.tensor(hu_volume[np.newaxis, np.newaxis]))\n",
        "        mask = torch.argmax(logits, dim=1)\n",
        "    return hu_volume * (mask.squeeze().numpy() > 0)"
      ],
      "metadata": {
        "id": "3wrfTNpf_58D"
      },
      "execution_count": null,
      "outputs": []
    },
    {
      "cell_type": "code",
      "source": [
        "from skimage.measure import label, regionprops\n",
        "\n",
        "def segment_calcium(hu_volume, hu_min=130, hu_max=3000):\n",
        "    \"\"\"Thresholding + connected components\"\"\"\n",
        "    mask = (hu_volume > hu_min) & (hu_volume < hu_max)\n",
        "    labels = label(mask)\n",
        "    regions = [r for r in regionprops(labels) if r.area >= 3]\n",
        "\n",
        "    clean_mask = np.zeros_like(mask)\n",
        "    for r in regions:\n",
        "        clean_mask[r.coords[:,0], r.coords[:,1], r.coords[:,2]] = 1\n",
        "    return clean_mask"
      ],
      "metadata": {
        "id": "5Qj3LYzY_8G0"
      },
      "execution_count": null,
      "outputs": []
    },
    {
      "cell_type": "code",
      "source": [
        "import torch\n",
        "import torch.nn as nn\n",
        "\n",
        "class CAD3DCNN(nn.Module):\n",
        "    def __init__(self):\n",
        "        super().__init__()\n",
        "        self.conv1 = nn.Conv3d(1, 32, kernel_size=3, padding=1)\n",
        "        self.pool = nn.MaxPool3d(2)\n",
        "        self.conv2 = nn.Conv3d(32, 64, kernel_size=3, padding=1)\n",
        "        self.fc1 = nn.Linear(64*8*8*8, 128)  # Adjust based on input size\n",
        "        self.fc2 = nn.Linear(128, 1)\n",
        "\n",
        "    def forward(self, x):\n",
        "        x = self.pool(torch.relu(self.conv1(x)))\n",
        "        x = self.pool(torch.relu(self.conv2(x)))\n",
        "        x = x.view(x.size(0), -1)\n",
        "        return torch.sigmoid(self.fc2(torch.relu(self.fc1(x))))\n",
        "\n",
        "def train_model(ct_volumes, labels):\n",
        "    model = CAD3DCNN()\n",
        "    criterion = nn.BCELoss()\n",
        "    optimizer = torch.optim.Adam(model.parameters())\n",
        "\n",
        "    for epoch in range(50):\n",
        "        outputs = model(ct_volumes)\n",
        "        loss = criterion(outputs, labels.float())\n",
        "        optimizer.zero_grad()\n",
        "        loss.backward()\n",
        "        optimizer.step()\n",
        "    return model"
      ],
      "metadata": {
        "id": "0fOFlNbB_-M6"
      },
      "execution_count": null,
      "outputs": []
    },
    {
      "cell_type": "code",
      "source": [
        "def calculate_agatston(calcium_mask, hu_volume, pixel_spacing):\n",
        "    \"\"\"Compute Agatston score\"\"\"\n",
        "    labeled = label(calcium_mask)\n",
        "    score = 0\n",
        "    for r in regionprops(labeled, hu_volume):\n",
        "        area = r.area * pixel_spacing[0] * pixel_spacing[1]\n",
        "        density = min(4, max(1, int(r.mean_intensity//100)))\n",
        "        score += area * density * max(1, pixel_spacing[2]/3)\n",
        "    return score\n",
        "\n",
        "def predict_risk(model, ct_volume, clinical_data):\n",
        "    \"\"\"End-to-end prediction\"\"\"\n",
        "    with torch.no_grad():\n",
        "        risk = model(ct_volume.unsqueeze(0).item()\n",
        "    return {\n",
        "        \"risk_score\": risk,\n",
        "        \"risk_category\": \"High\" if risk > 0.5 else \"Low\",\n",
        "        \"recommendations\": get_recommendations(risk)\n",
        "    }"
      ],
      "metadata": {
        "id": "aOz08t3nAAes"
      },
      "execution_count": null,
      "outputs": []
    },
    {
      "cell_type": "code",
      "source": [
        "import matplotlib.pyplot as plt\n",
        "import seaborn as sns\n",
        "\n",
        "def plot_calcium(hu_slice, calcium_mask):\n",
        "    plt.imshow(hu_slice, cmap='gray')\n",
        "    plt.imshow(calcium_mask, cmap='Reds', alpha=0.3)\n",
        "    plt.title(\"Calcium Detection\")\n",
        "    plt.show()\n",
        "\n",
        "def plot_shap(shap_values, features):\n",
        "    sns.barplot(x=shap_values, y=features)\n",
        "    plt.title(\"Feature Importance\")\n",
        "    plt.show()"
      ],
      "metadata": {
        "id": "csw8lLeaACm1"
      },
      "execution_count": null,
      "outputs": []
    }
  ]
}